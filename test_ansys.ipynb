{
 "cells": [
  {
   "cell_type": "code",
   "execution_count": 1,
   "metadata": {},
   "outputs": [
    {
     "name": "stdout",
     "output_type": "stream",
     "text": [
      "PyAEDT INFO: StdOut has been enabled\n",
      "PyAEDT INFO: using existing logger.\n",
      "PyAEDT INFO: Launching PyAEDT outside AEDT with CPython and PythonNET.\n",
      "PyAEDT INFO: AEDT installation Path D:\\Program Files\\Ansys22\\v221\\Win64.\n",
      "PyAEDT INFO: Launching AEDT with module PythonNET.\n",
      "PyAEDT INFO: AEDT 2022.1 Started with process ID 23852.\n",
      "PyAEDT INFO: pyaedt v0.6.81\n",
      "PyAEDT INFO: Python version 3.8.10 (tags/v3.8.10:3d8993a, May  3 2021, 11:48:03) [MSC v.1928 64 bit (AMD64)]\n",
      "PyAEDT INFO: AEDT 2022.1.0 Build Date 2021-11-22 22:18:25\n",
      "PyAEDT INFO: Project 380V_4x12V_2level set to active.\n",
      "PyAEDT INFO: Aedt Objects initialized\n",
      "PyAEDT INFO: Variable Manager initialized\n",
      "PyAEDT INFO: Design Loaded\n",
      "PyAEDT INFO: Materials Loaded\n",
      "PyAEDT INFO: aedt file load time 0.46794843673706055\n"
     ]
    }
   ],
   "source": [
    "from power_toys.components.ansys import  Ansys\n",
    "\n",
    "ansys = Ansys()\n",
    "ansys.connect_to_proj('380V_4x12V_2level', 'Maxwell3DDesign1')\n",
    "ansys.m3d.activate_variable_optimization(variable_name)\n"
   ]
  },
  {
   "cell_type": "code",
   "execution_count": 9,
   "metadata": {},
   "outputs": [
    {
     "data": {
      "text/plain": [
       "'12'"
      ]
     },
     "execution_count": 9,
     "metadata": {},
     "output_type": "execute_result"
    }
   ],
   "source": [
    "m3d = ansys.m3d\n",
    "obj = m3d.modeler.get_object_from_name('12')\n",
    "m3d.modeler.convert_to_selections(obj)"
   ]
  },
  {
   "cell_type": "code",
   "execution_count": 3,
   "metadata": {},
   "outputs": [
    {
     "name": "stdout",
     "output_type": "stream",
     "text": [
      "PyAEDT DEBUG: Exporting 1 objects\n",
      "[69.46900000000001, 65.69300298, 1.1340050000000004, 82.296, 90.56800276000001, 1.1690060000000004]\n"
     ]
    }
   ],
   "source": [
    "obj = m3d.modeler.get_object_from_name('S1_23')\n",
    "print(obj.bounding_box)"
   ]
  },
  {
   "cell_type": "code",
   "execution_count": 4,
   "metadata": {},
   "outputs": [
    {
     "name": "stdout",
     "output_type": "stream",
     "text": [
      "PyAEDT DEBUG: Exporting 1 objects\n",
      "PyAEDT DEBUG: Exporting 1 objects\n",
      "PyAEDT DEBUG: Exporting 1 objects\n",
      "PyAEDT DEBUG: Exporting 1 objects\n",
      "PyAEDT DEBUG: Exporting 1 objects\n",
      "PyAEDT DEBUG: Exporting 1 objects\n",
      "PyAEDT DEBUG: Exporting 1 objects\n",
      "PyAEDT DEBUG: Exporting 1 objects\n",
      "PyAEDT DEBUG: Exporting 1 objects\n",
      "PyAEDT DEBUG: Exporting 1 objects\n",
      "PyAEDT DEBUG: Exporting 1 objects\n",
      "PyAEDT DEBUG: Exporting 1 objects\n",
      "PyAEDT DEBUG: Exporting 1 objects\n",
      "PyAEDT DEBUG: Exporting 1 objects\n",
      "PyAEDT DEBUG: Exporting 1 objects\n",
      "PyAEDT DEBUG: Exporting 1 objects\n",
      "PyAEDT DEBUG: Exporting 1 objects\n",
      "PyAEDT DEBUG: Exporting 1 objects\n",
      "PyAEDT DEBUG: Exporting 1 objects\n",
      "PyAEDT DEBUG: Exporting 1 objects\n",
      "PyAEDT DEBUG: Exporting 1 objects\n",
      "PyAEDT DEBUG: Exporting 1 objects\n",
      "PyAEDT DEBUG: Exporting 1 objects\n",
      "PyAEDT DEBUG: Exporting 1 objects\n",
      "PyAEDT DEBUG: Exporting 1 objects\n",
      "PyAEDT DEBUG: Exporting 1 objects\n",
      "PyAEDT DEBUG: Exporting 1 objects\n",
      "PyAEDT DEBUG: Exporting 1 objects\n",
      "PyAEDT DEBUG: Exporting 1 objects\n",
      "PyAEDT DEBUG: Exporting 1 objects\n",
      "PyAEDT DEBUG: Exporting 1 objects\n",
      "PyAEDT DEBUG: Exporting 1 objects\n",
      "PyAEDT DEBUG: Exporting 1 objects\n",
      "PyAEDT DEBUG: Exporting 1 objects\n",
      "PyAEDT DEBUG: Exporting 1 objects\n",
      "PyAEDT DEBUG: Exporting 1 objects\n",
      "PyAEDT DEBUG: Exporting 1 objects\n",
      "PyAEDT DEBUG: Exporting 1 objects\n",
      "PyAEDT DEBUG: Exporting 1 objects\n",
      "PyAEDT DEBUG: Exporting 1 objects\n",
      "PyAEDT DEBUG: Exporting 1 objects\n"
     ]
    }
   ],
   "source": [
    "item_list = []\n",
    "for _,val in m3d.modeler.objects.items():\n",
    "    if((val.volume>1) and (val.bounding_box[2] == 1.027884)):\n",
    "        item_list.append(val)"
   ]
  },
  {
   "cell_type": "code",
   "execution_count": 5,
   "metadata": {},
   "outputs": [],
   "source": [
    "item_list[0].name = '12'"
   ]
  },
  {
   "cell_type": "code",
   "execution_count": null,
   "metadata": {},
   "outputs": [],
   "source": [
    "def get_layer_z(num):\n",
    "    if(num == 1):\n",
    "        return 1.310126\n",
    "    else:\n",
    "        return 1.169006-(num-1)*0.106121"
   ]
  },
  {
   "cell_type": "code",
   "execution_count": null,
   "metadata": {},
   "outputs": [],
   "source": []
  }
 ],
 "metadata": {
  "kernelspec": {
   "display_name": "Python 3",
   "language": "python",
   "name": "python3"
  },
  "language_info": {
   "codemirror_mode": {
    "name": "ipython",
    "version": 3
   },
   "file_extension": ".py",
   "mimetype": "text/x-python",
   "name": "python",
   "nbconvert_exporter": "python",
   "pygments_lexer": "ipython3",
   "version": "3.8.10"
  },
  "orig_nbformat": 4
 },
 "nbformat": 4,
 "nbformat_minor": 2
}
