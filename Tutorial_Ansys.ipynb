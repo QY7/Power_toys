{
 "cells": [
  {
   "attachments": {},
   "cell_type": "markdown",
   "metadata": {},
   "source": [
    "## 连接Ansys功能\n",
    "首先创建一个控制的实例，使用`Ansys.connect_to_proj()`函数"
   ]
  },
  {
   "cell_type": "code",
   "execution_count": 1,
   "metadata": {},
   "outputs": [
    {
     "name": "stdout",
     "output_type": "stream",
     "text": [
      "PyAEDT INFO: StdOut has been enabled\n",
      "PyAEDT INFO: using existing logger.\n",
      "PyAEDT INFO: Launching PyAEDT outside AEDT with CPython and PythonNET.\n",
      "PyAEDT INFO: AEDT installation Path D:\\Program Files\\Ansys22\\v221\\Win64.\n",
      "PyAEDT INFO: Launching AEDT with module PythonNET.\n",
      "PyAEDT INFO: AEDT 2022.1 Started with process ID 10608.\n",
      "PyAEDT INFO: pyaedt v0.6.81\n",
      "PyAEDT INFO: Python version 3.8.10 (tags/v3.8.10:3d8993a, May  3 2021, 11:48:03) [MSC v.1928 64 bit (AMD64)]\n",
      "PyAEDT INFO: AEDT 2022.1.0 Build Date 2021-11-22 22:18:25\n",
      "PyAEDT INFO: Project Project2 set to active.\n",
      "PyAEDT INFO: Aedt Objects initialized\n",
      "PyAEDT INFO: Variable Manager initialized\n",
      "PyAEDT INFO: Design Loaded\n",
      "PyAEDT INFO: Materials Loaded\n",
      "PyAEDT INFO: aedt file load time 0.03194689750671387\n"
     ]
    }
   ],
   "source": [
    "from power_toys.components.ansys import Ansys\n",
    "# 填入对应的项目名和design名字，如果没有已经打开的项目，将新建\n",
    "m3d = Ansys.connect_to_proj('Project2','Maxwell3DDesign1',desktop_version=\"2022.1\")"
   ]
  },
  {
   "attachments": {},
   "cell_type": "markdown",
   "metadata": {},
   "source": [
    "## 建模"
   ]
  },
  {
   "cell_type": "code",
   "execution_count": 2,
   "metadata": {},
   "outputs": [
    {
     "name": "stdout",
     "output_type": "stream",
     "text": [
      "PyAEDT INFO: Successfully loaded project materials !\n"
     ]
    },
    {
     "name": "stdout",
     "output_type": "stream",
     "text": [
      "PyAEDT WARNING: Material ferrite_loss already exists. Renaming to ferrite_loss_4LLEDL\n",
      "PyAEDT INFO: Deleted 1 Objects: Region.\n",
      "PyAEDT INFO: Deleted 1 Objects: left_leg.\n",
      "PyAEDT INFO: Deleted 1 Objects: right_leg.\n",
      "PyAEDT INFO: Deleted 1 Objects: left_winding.\n",
      "PyAEDT INFO: Deleted 1 Objects: right_winding.\n",
      "PyAEDT INFO: Deleted 1 Objects: top_plate.\n",
      "PyAEDT INFO: Deleted 1 Objects: bottom_plate.\n",
      "PyAEDT INFO: Deleted 1 Objects: left_winding_cross.\n",
      "PyAEDT INFO: Deleted 1 Objects: right_winding_cross.\n",
      "PyAEDT INFO: Union of 3 objects has been executed.\n",
      "PyAEDT INFO: Union of 3 objects has been executed.\n",
      "PyAEDT INFO: Union of 3 objects has been executed.\n",
      "PyAEDT INFO: Union of 3 objects has been executed.\n",
      "PyAEDT INFO: Union of 3 objects has been executed.\n",
      "PyAEDT INFO: Union of 3 objects has been executed.\n"
     ]
    },
    {
     "data": {
      "text/plain": [
       "<pyaedt.modeler.cad.object3d.Object3d at 0x2566f44de80>"
      ]
     },
     "execution_count": 2,
     "metadata": {},
     "output_type": "execute_result"
    }
   ],
   "source": [
    "from power_toys.components.ansys import Ansys\n",
    "# 导入ferrite材质\n",
    "Ansys.import_ferrite(m3d)\n",
    "# 先删掉所有的模型\n",
    "Ansys.delete_all(m3d)\n",
    "\n",
    "# 配置variable参数\n",
    "m3d['_r'] = '6.5mm'\n",
    "m3d['_k'] = '600percent'\n",
    "m3d['_w'] = '11mm'\n",
    "# 创建strip形状\n",
    "Ansys.create_strip(m3d,r='_r',k='_k',matname='ferrite_loss',name='left_leg')\n",
    "Ansys.create_strip(m3d,position=[0,'2*_r+2*_w',0],r='_r',k='_k',matname='ferrite_loss',name='right_leg')\n",
    "# 创建winding形状\n",
    "Ansys.create_winding(m3d,position=[0,'0mm','1mm'],r='_r',k='_k',w='_w',name='left_winding')\n",
    "Ansys.create_winding(m3d,position=[0,'2*_r+2*_w','1mm'],r='_r',k='_k',w='_w',name='right_winding')\n",
    "# 创建I片\n",
    "Ansys.create_I_plate(m3d,position=['-_r','-_r','3.5mm'],r='_r',k='_k',w='_w',height='8mm',matname='ferrite_loss',name='top_plate')\n",
    "Ansys.create_I_plate(m3d,position=['-_r','-_r','-0.5mm'],r='_r',k='_k',w='_w',height='-8mm',matname='ferrite_loss',name='bottom_plate')\n",
    "\n",
    "# 创建两个面\n",
    "# Ansys.create_face_from_volume(m3d,'top_plate','top','top_plate_top')\n",
    "# Ansys.create_face_from_volume(m3d,'top_plate','bottom','top_plate_bottom')\n",
    "\n",
    "m3d.modeler.create_region(200)"
   ]
  },
  {
   "attachments": {},
   "cell_type": "markdown",
   "metadata": {},
   "source": [
    "### 修改设置\n",
    "可以直接用`m3d['variable']=new value`的方式来直接修改"
   ]
  },
  {
   "cell_type": "code",
   "execution_count": 5,
   "metadata": {},
   "outputs": [],
   "source": [
    "m3d['_r'] = '6.5mm'\n",
    "m3d['_k'] = '600percent'\n",
    "m3d['_w'] = '11mm'"
   ]
  },
  {
   "attachments": {},
   "cell_type": "markdown",
   "metadata": {},
   "source": [
    "### 添加激励"
   ]
  },
  {
   "cell_type": "code",
   "execution_count": 5,
   "metadata": {},
   "outputs": [
    {
     "name": "stdout",
     "output_type": "stream",
     "text": [
      "PyAEDT ERROR: API Message - Project: Project2, Design: Maxwell3DDesign1 (EddyCurrent), [error] Script macro error: Duplicate excitation name: 'left_winding_current' (2:44:33 PM  Jul 04, 2023)\n",
      "\n",
      "PyAEDT ERROR:   File \"c:\\Users\\silergy\\AppData\\Local\\Programs\\Python\\Python38\\lib\\site-packages\\pyaedt\\modules\\Boundary.py\", line 479, in create, GENERAL OR AEDT ERROR\n",
      "PyAEDT ERROR: Check Online documentation on: https://aedt.docs.pyansys.com/version/stable/search.html?q=create\n"
     ]
    },
    {
     "data": {
      "text/plain": [
       "False"
      ]
     },
     "execution_count": 5,
     "metadata": {},
     "output_type": "execute_result"
    }
   ],
   "source": [
    "m3d.assign_current(\n",
    "    ['left_winding_cross'],\n",
    "    amplitude = '1A',\n",
    "    swap_direction = False,\n",
    "    name = 'left_winding_current'\n",
    ")"
   ]
  },
  {
   "attachments": {},
   "cell_type": "markdown",
   "metadata": {},
   "source": [
    "### 开始仿真"
   ]
  },
  {
   "cell_type": "code",
   "execution_count": 6,
   "metadata": {},
   "outputs": [
    {
     "data": {
      "text/plain": [
       "True"
      ]
     },
     "execution_count": 6,
     "metadata": {},
     "output_type": "execute_result"
    }
   ],
   "source": [
    "m3d.analyze_all()"
   ]
  },
  {
   "attachments": {},
   "cell_type": "markdown",
   "metadata": {},
   "source": [
    "## 在ansys中添加绘图\n",
    "这里以绘制bottom_plate中的B场幅值为例"
   ]
  },
  {
   "cell_type": "code",
   "execution_count": 7,
   "metadata": {},
   "outputs": [],
   "source": [
    "# 在volume上添加B场幅值\n",
    "Ansys.create_field_plot_volume(m3d, \"bottom_plate\", 'Mag_B', 'MagB in bottom plate')"
   ]
  },
  {
   "attachments": {},
   "cell_type": "markdown",
   "metadata": {},
   "source": [
    "更高阶的功能可以直接通过操作pyaedt的API来实现如下所示"
   ]
  },
  {
   "cell_type": "code",
   "execution_count": 13,
   "metadata": {},
   "outputs": [
    {
     "name": "stdout",
     "output_type": "stream",
     "text": [
      "PyAEDT INFO: Exporting Mag_B field. Be patient\n"
     ]
    },
    {
     "data": {
      "text/plain": [
       "'E:\\\\Desktop\\\\Power_toys\\\\Power_toys\\\\Mag.csv'"
      ]
     },
     "execution_count": 13,
     "metadata": {},
     "output_type": "execute_result"
    }
   ],
   "source": [
    "quantity_name2 = \"Mag_B\"\n",
    "setup_name = \"Setup1\"\n",
    "intrinsic = {\"Freq\": \"1MHz\", \"Phase\": \"0deg\"}\n",
    "vollist = [\"Top_plate_bottom\"]\n",
    "\n",
    "# 在某一个面上绘制B场幅值\n",
    "plot2 = m3d.post.create_fieldplot_surface(m3d.modeler[\"Top_plate\"].faces[1].id, 'Mag_B', m3d.existing_analysis_sweeps[0], intrinsic)\n",
    "# 导出图片\n",
    "m3d.post.export_field_jpg(\n",
    "    'E:\\\\Desktop\\\\Power_toys\\\\Power_toys\\\\prova2.jpg',\n",
    "    plot2.name,\n",
    "    plot2.plotFolder,\n",
    "    orientation='top',\n",
    "    display_wireframe=False,\n",
    ")\n",
    "# 导出数据到文件\n",
    "m3d.post.export_field_file_on_grid(\n",
    "    quantity_name=\"Mag_B\",\n",
    "    solution=\"Setup1 : LastAdaptive\",\n",
    "    filename='E:\\\\Desktop\\\\Power_toys\\\\Power_toys\\\\Mag.csv',\n",
    "    grid_start=[6,6,-0.2],\n",
    "    grid_stop=[6, 7, -0.2],\n",
    "    grid_step=[0.1, 0.1, 0],\n",
    "    intrinsics=\"1MHz\",\n",
    ")"
   ]
  }
 ],
 "metadata": {
  "kernelspec": {
   "display_name": "Python 3",
   "language": "python",
   "name": "python3"
  },
  "language_info": {
   "codemirror_mode": {
    "name": "ipython",
    "version": 3
   },
   "file_extension": ".py",
   "mimetype": "text/x-python",
   "name": "python",
   "nbconvert_exporter": "python",
   "pygments_lexer": "ipython3",
   "version": "3.8.10"
  },
  "orig_nbformat": 4
 },
 "nbformat": 4,
 "nbformat_minor": 2
}
