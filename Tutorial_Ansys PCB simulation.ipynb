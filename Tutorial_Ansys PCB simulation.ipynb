{
 "cells": [
  {
   "attachments": {},
   "cell_type": "markdown",
   "metadata": {},
   "source": [
    "## 连接Ansys功能\n",
    "首先创建一个控制的实例，使用`Ansys.connect_to_proj()`函数"
   ]
  },
  {
   "cell_type": "code",
   "execution_count": 1,
   "metadata": {},
   "outputs": [
    {
     "name": "stdout",
     "output_type": "stream",
     "text": [
      "PyAEDT INFO: StdOut has been enabled\n",
      "PyAEDT INFO: using existing logger.\n",
      "PyAEDT INFO: Launching PyAEDT outside AEDT with CPython and PythonNET.\n",
      "PyAEDT INFO: AEDT installation Path D:\\Program Files\\Ansys22\\v221\\Win64.\n",
      "PyAEDT INFO: Launching AEDT with module PythonNET.\n",
      "PyAEDT INFO: AEDT 2022.1 Started with process ID 24932.\n",
      "PyAEDT INFO: pyaedt v0.6.81\n",
      "PyAEDT INFO: Python version 3.8.10 (tags/v3.8.10:3d8993a, May  3 2021, 11:48:03) [MSC v.1928 64 bit (AMD64)]\n",
      "PyAEDT INFO: AEDT 2022.1.0 Build Date 2021-11-22 22:18:25\n",
      "PyAEDT INFO: Project Sim_48_6_FullBridge has been created.\n",
      "PyAEDT INFO: Added design 'Maxwell3DDesign1' of type Maxwell 3D.\n",
      "PyAEDT INFO: Aedt Objects initialized\n",
      "PyAEDT INFO: Variable Manager initialized\n",
      "PyAEDT INFO: Design Loaded\n",
      "PyAEDT INFO: Materials Loaded\n",
      "PyAEDT INFO: aedt file load time 0.001994609832763672\n"
     ]
    }
   ],
   "source": [
    "from power_toys.components.ansys import Ansys\n",
    "# 填入对应的项目名和design名字，如果没有已经打开的项目，将新建\n",
    "ansys = Ansys()\n",
    "ansys.connect_to_proj('Sim_48_6_FullBridge','Maxwell3DDesign1',desktop_version=\"2022.1\")\n",
    "modeler = ansys.m3d.modeler\n"
   ]
  },
  {
   "cell_type": "code",
   "execution_count": 2,
   "metadata": {},
   "outputs": [
    {
     "name": "stdout",
     "output_type": "stream",
     "text": [
      "PyAEDT INFO: Step file E:\\workspace\\AD\\11kW_OBC\\Experiment_DEMO\\ANF\\Transformer_better_rearrange_winding_side_winding.sm3 imported\n",
      "PyAEDT INFO: Deleted 1 Objects: DIELECTRIC.\n"
     ]
    }
   ],
   "source": [
    "# 导入sm3文件\n",
    "modeler.import_3d_cad(\"E:\\\\workspace\\\\AD\\\\11kW_OBC\\\\Experiment_DEMO\\\\ANF\\\\Transformer_better_rearrange_winding_side_winding.sm3\")\n",
    "# 旋转模型，为了跟AD的坐标系保持一致\n",
    "modeler.rotate(modeler.object_list, 'XY')\n",
    "# 删除介质层\n",
    "\n",
    "modeler.delete([modeler.get_object_from_name('DIELECTRIC')])\n",
    "modeler.fit_all()"
   ]
  },
  {
   "attachments": {},
   "cell_type": "markdown",
   "metadata": {},
   "source": [
    "## 创建磁芯"
   ]
  },
  {
   "cell_type": "code",
   "execution_count": 5,
   "metadata": {},
   "outputs": [
    {
     "name": "stdout",
     "output_type": "stream",
     "text": [
      "PyAEDT WARNING: Material ferrite_loss already exists. Renaming to ferrite_loss_QOBYKM\n"
     ]
    },
    {
     "name": "stdout",
     "output_type": "stream",
     "text": [
      "PyAEDT DEBUG: Exporting 1 objects\n",
      "PyAEDT DEBUG: Exporting 1 objects\n",
      "PyAEDT DEBUG: Exporting 1 objects\n",
      "PyAEDT DEBUG: Exporting 1 objects\n",
      "PyAEDT INFO: Union of 3 objects has been executed.\n",
      "PyAEDT INFO: Union of 3 objects has been executed.\n"
     ]
    },
    {
     "data": {
      "text/plain": [
       "'right'"
      ]
     },
     "execution_count": 5,
     "metadata": {},
     "output_type": "execute_result"
    }
   ],
   "source": [
    "ansys.import_ferrite()\n",
    "anchor = modeler.get_object_from_name('ANCHOR_2')\n",
    "center_x = (anchor.bounding_box[0]+anchor.bounding_box[3])/2\n",
    "center_y = (anchor.bounding_box[1]+anchor.bounding_box[4])/2\n",
    "\n",
    "ansys.m3d['_k'] = '600percent'\n",
    "ansys.m3d['_r'] = '6.5mm'\n",
    "ansys.m3d['_w'] = '11.5mm'\n",
    "\n",
    "\n",
    "ansys.m3d.assign_material(modeler.object_list, 'Copper')\n",
    "ansys.create_strip(position=[f\"({center_x}mm)\",f\"{center_y}mm\",'-1mm'],r=\"_r\",k=\"_k\",along='X',matname='ferrite_loss',name='left')\n",
    "ansys.create_strip(position=[f\"({center_x}mm)\",f\"{center_y}mm+36mm\",'-1mm'],r=\"_r\",k=\"_k\",along='X',matname='ferrite_loss',name='right')"
   ]
  },
  {
   "cell_type": "code",
   "execution_count": 6,
   "metadata": {},
   "outputs": [],
   "source": [
    "ansys.create_I_plate(position=[f\"({center_x}mm)-_r\",f\"{center_y}mm-_r\",'2.5mm'],height='9mm',r=\"_r\",k=\"_k\",w='_w',matname='ferrite_loss')\n",
    "ansys.create_I_plate(position=[f\"({center_x}mm)-_r\",f\"{center_y}mm-_r\",'-1.5mm'],height='-9mm',r=\"_r\",k=\"_k\",w='_w',matname='ferrite_loss')\n"
   ]
  },
  {
   "cell_type": "code",
   "execution_count": 7,
   "metadata": {},
   "outputs": [
    {
     "name": "stdout",
     "output_type": "stream",
     "text": [
      "PyAEDT DEBUG: Exporting 1 objects\n"
     ]
    },
    {
     "name": "stdout",
     "output_type": "stream",
     "text": [
      "PyAEDT DEBUG: Exporting 1 objects\n",
      "PyAEDT DEBUG: Exporting 1 objects\n",
      "PyAEDT DEBUG: Exporting 1 objects\n",
      "PyAEDT DEBUG: Exporting 1 objects\n",
      "PyAEDT DEBUG: Exporting 1 objects\n",
      "PyAEDT DEBUG: Exporting 1 objects\n",
      "PyAEDT DEBUG: Exporting 1 objects\n",
      "PyAEDT DEBUG: Exporting 1 objects\n",
      "PyAEDT DEBUG: Exporting 1 objects\n",
      "PyAEDT DEBUG: Exporting 1 objects\n",
      "PyAEDT DEBUG: Exporting 1 objects\n",
      "PyAEDT DEBUG: Exporting 1 objects\n",
      "PyAEDT DEBUG: Exporting 1 objects\n",
      "PyAEDT DEBUG: Exporting 1 objects\n",
      "PyAEDT DEBUG: Exporting 1 objects\n",
      "PyAEDT DEBUG: Exporting 1 objects\n",
      "PyAEDT DEBUG: Exporting 1 objects\n",
      "PyAEDT DEBUG: Exporting 1 objects\n",
      "PyAEDT DEBUG: Exporting 1 objects\n",
      "PyAEDT DEBUG: Exporting 1 objects\n",
      "PyAEDT DEBUG: Exporting 1 objects\n",
      "PyAEDT DEBUG: Exporting 1 objects\n",
      "PyAEDT DEBUG: Exporting 1 objects\n"
     ]
    }
   ],
   "source": [
    "def create_terminal(obj_name):\n",
    "    terminal_tmp = ansys.m3d.modeler.get_object_from_name(obj_name)\n",
    "    pos_tmp_top_raw = terminal_tmp.bounding_box[:3]\n",
    "    pos_tmp_top_raw [2] += terminal_tmp.bounding_dimension[2]\n",
    "    pos_tmp = [f\"{x}mm\" for x in pos_tmp_top_raw]\n",
    "    dim_tmp = [f\"{x}mm\" for x in terminal_tmp.bounding_dimension[:2]]\n",
    "    dim_tmp.append('50mm')\n",
    "    input_tmp = modeler.create_box(position=pos_tmp,dimensions_list=dim_tmp)\n",
    "    ansys.m3d.assign_material(input_tmp, 'Copper')\n",
    "    return input_tmp\n",
    "\n",
    "pri_input = create_terminal('W1_49')\n",
    "pri_output = create_terminal('W1_65')\n",
    "sec_input = create_terminal('W2_49')\n",
    "sec_output = create_terminal('W2_60')\n",
    "\n",
    "r1_input = create_terminal('W3_8')\n",
    "r1_output = create_terminal('W3_9')\n",
    "r2_input = create_terminal('W4_8')\n",
    "r2_output = create_terminal('W4_9')\n"
   ]
  },
  {
   "cell_type": "code",
   "execution_count": 8,
   "metadata": {},
   "outputs": [
    {
     "data": {
      "text/plain": [
       "<pyaedt.modules.Boundary.BoundaryObject at 0x27748136070>"
      ]
     },
     "execution_count": 8,
     "metadata": {},
     "output_type": "execute_result"
    }
   ],
   "source": [
    "ansys.m3d.assign_current([pri_input.top_face_z],amplitude='15A',name='pri_in')\n",
    "ansys.m3d.assign_current([pri_output.top_face_z],amplitude='15A',swap_direction=True,name='pri_out')\n",
    "ansys.m3d.assign_current([sec_input.top_face_z],amplitude='15A',name='sec_in')\n",
    "ansys.m3d.assign_current([sec_output.top_face_z],amplitude='15A',swap_direction=True,name='sec_out')\n",
    "\n",
    "ansys.m3d.assign_current([r1_input.top_face_z],amplitude='15A',name='r1_in')\n",
    "ansys.m3d.assign_current([r1_output.top_face_z],amplitude='15A',swap_direction=True,name='r1_out')\n",
    "ansys.m3d.assign_current([r2_input.top_face_z],amplitude='15A',name='r2_in')\n",
    "ansys.m3d.assign_current([r2_output.top_face_z],amplitude='15A',swap_direction=True,name='r2_out')"
   ]
  },
  {
   "cell_type": "code",
   "execution_count": 9,
   "metadata": {},
   "outputs": [
    {
     "data": {
      "text/plain": [
       "<pyaedt.modeler.cad.object3d.Object3d at 0x27729d96df0>"
      ]
     },
     "execution_count": 9,
     "metadata": {},
     "output_type": "execute_result"
    }
   ],
   "source": [
    "modeler.create_region([200,200,0,200,200,200])"
   ]
  },
  {
   "cell_type": "code",
   "execution_count": 8,
   "metadata": {},
   "outputs": [
    {
     "data": {
      "text/plain": [
       "SetupName Setup_500kHz with 0 Sweeps"
      ]
     },
     "execution_count": 8,
     "metadata": {},
     "output_type": "execute_result"
    }
   ],
   "source": [
    "ansys.m3d.create_setup(setupname='Setup_500kHz',Frequency = '500kHz',HasSweepSetup = False)"
   ]
  },
  {
   "cell_type": "code",
   "execution_count": 11,
   "metadata": {},
   "outputs": [
    {
     "name": "stdout",
     "output_type": "stream",
     "text": [
      "PyAEDT DEBUG: Exporting 1 objects\n",
      "PyAEDT DEBUG: Exporting 1 objects\n",
      "PyAEDT DEBUG: Exporting 1 objects\n",
      "PyAEDT DEBUG: Exporting 1 objects\n",
      "PyAEDT DEBUG: Exporting 1 objects\n"
     ]
    }
   ],
   "source": [
    "ansys.rename_winding(['W1'], 100, 'pri', 'winding')\n",
    "ansys.rename_winding(['W2'], 100, 'sec', 'winding')"
   ]
  },
  {
   "cell_type": "code",
   "execution_count": 1,
   "metadata": {},
   "outputs": [
    {
     "ename": "NameError",
     "evalue": "name 'debug' is not defined",
     "output_type": "error",
     "traceback": [
      "\u001b[1;31m---------------------------------------------------------------------------\u001b[0m",
      "\u001b[1;31mNameError\u001b[0m                                 Traceback (most recent call last)",
      "Cell \u001b[1;32mIn[1], line 1\u001b[0m\n\u001b[1;32m----> 1\u001b[0m \u001b[39mprint\u001b[39m(debug)\n",
      "\u001b[1;31mNameError\u001b[0m: name 'debug' is not defined"
     ]
    }
   ],
   "source": [
    "print(debug)"
   ]
  },
  {
   "cell_type": "code",
   "execution_count": null,
   "metadata": {},
   "outputs": [
    {
     "name": "stdout",
     "output_type": "stream",
     "text": [
      "PyAEDT DEBUG: Exporting 1 objects\n"
     ]
    },
    {
     "name": "stdout",
     "output_type": "stream",
     "text": [
      "PyAEDT DEBUG: Exporting 1 objects\n",
      "PyAEDT DEBUG: Exporting 1 objects\n",
      "PyAEDT DEBUG: Exporting 1 objects\n",
      "PyAEDT DEBUG: Exporting 1 objects\n",
      "PyAEDT DEBUG: Exporting 1 objects\n",
      "PyAEDT DEBUG: Exporting 1 objects\n",
      "PyAEDT DEBUG: Exporting 1 objects\n",
      "PyAEDT DEBUG: Exporting 1 objects\n",
      "PyAEDT DEBUG: Exporting 1 objects\n",
      "PyAEDT DEBUG: Exporting 1 objects\n",
      "PyAEDT DEBUG: Exporting 1 objects\n",
      "PyAEDT DEBUG: Exporting 1 objects\n",
      "PyAEDT DEBUG: Exporting 1 objects\n",
      "PyAEDT DEBUG: Exporting 1 objects\n",
      "PyAEDT DEBUG: Exporting 1 objects\n",
      "PyAEDT INFO: aedt file load time 0.6621396541595459\n"
     ]
    },
    {
     "data": {
      "text/plain": [
       "<pyaedt.modules.solutions.FieldPlot at 0x1fceb586310>"
      ]
     },
     "execution_count": 16,
     "metadata": {},
     "output_type": "execute_result"
    }
   ],
   "source": [
    "name_assigned = []\n",
    "for obj in winding_list:\n",
    "    layer = pos_z_list.index(obj.bounding_box[2])\n",
    "    new_name = f\"Layer_{layer}_1\"\n",
    "\n",
    "    if(new_name in name_assigned):\n",
    "        new_name = f\"Layer_{layer}_2\"\n",
    "\n",
    "    obj.name = new_name\n",
    "    name_assigned.append(new_name)\n",
    "    intrinsic = {\"Freq\": \"500kHz\", \"Phase\": \"0deg\"}\n",
    "m3d.post.create_fieldplot_volume(\n",
    "    winding_list,\n",
    "    'Mag_J',\n",
    "    m3d.existing_analysis_sweeps[0],\n",
    "    intrinsic,\n",
    "    plot_name=\"Mag_J\"\n",
    ")"
   ]
  },
  {
   "cell_type": "code",
   "execution_count": null,
   "metadata": {},
   "outputs": [],
   "source": [
    "for obj in m3d.modeler.get_objects_in_group(\"winding\"):\n",
    "    Fields = m3d.odesign.GetModule(\"FieldsReporter\")\n",
    "    # 计算所有欧姆Loss\n",
    "    Fields.EnterQty(\"OhmicLoss\")\n",
    "    Fields.CalcOp(\"Smooth\")\n",
    "    Fields.EnterVol(obj)\n",
    "    Fields.CalcOp('Integrate')\n",
    "    Fields.AddNamedExpression(f\"{obj}_loss\", \"Fields\")\n",
    "    \n"
   ]
  },
  {
   "cell_type": "code",
   "execution_count": null,
   "metadata": {},
   "outputs": [
    {
     "name": "stdout",
     "output_type": "stream",
     "text": [
      "PyAEDT INFO: Solution Data Correctly Loaded.\n",
      "PyAEDT INFO: Solution Data Correctly Loaded.\n",
      "PyAEDT INFO: Solution Data Correctly Loaded.\n",
      "PyAEDT INFO: Solution Data Correctly Loaded.\n",
      "PyAEDT INFO: Solution Data Correctly Loaded.\n",
      "PyAEDT INFO: Solution Data Correctly Loaded.\n",
      "PyAEDT INFO: Solution Data Correctly Loaded.\n",
      "PyAEDT INFO: Solution Data Correctly Loaded.\n",
      "PyAEDT INFO: Solution Data Correctly Loaded.\n",
      "PyAEDT INFO: Solution Data Correctly Loaded.\n",
      "PyAEDT INFO: Solution Data Correctly Loaded.\n",
      "PyAEDT INFO: Solution Data Correctly Loaded.\n",
      "PyAEDT INFO: Solution Data Correctly Loaded.\n",
      "PyAEDT INFO: Solution Data Correctly Loaded.\n",
      "PyAEDT INFO: Solution Data Correctly Loaded.\n",
      "PyAEDT INFO: Solution Data Correctly Loaded.\n"
     ]
    }
   ],
   "source": [
    "winding_loss_dict = {}\n",
    "for obj in m3d.modeler.get_objects_in_group(\"winding\"):\n",
    "    winding_loss_dict[obj] = Ansys.get_scalar_value(m3d,f\"{obj}_loss\")"
   ]
  },
  {
   "attachments": {},
   "cell_type": "markdown",
   "metadata": {},
   "source": [
    "## 在ansys中添加绘图\n",
    "这里以绘制bottom_plate中的B场幅值为例"
   ]
  },
  {
   "cell_type": "code",
   "execution_count": null,
   "metadata": {},
   "outputs": [],
   "source": [
    "# # 在volume上添加B场幅值\n",
    "Ansys.create_field_plot_volume(m3d, \"bottom_plate\", 'Mag_J', 'MagB in bottom plate')"
   ]
  },
  {
   "attachments": {},
   "cell_type": "markdown",
   "metadata": {},
   "source": [
    "更高阶的功能可以直接通过操作pyaedt的API来实现如下所示"
   ]
  },
  {
   "cell_type": "code",
   "execution_count": null,
   "metadata": {},
   "outputs": [],
   "source": [
    "# quantity_name2 = \"Mag_B\"\n",
    "# setup_name = \"Setup1\"\n",
    "# intrinsic = {\"Freq\": \"1MHz\", \"Phase\": \"0deg\"}\n",
    "# vollist = [\"Top_plate_bottom\"]\n",
    "\n",
    "# # 在某一个面上绘制B场幅值\n",
    "# plot2 = m3d.post.create_fieldplot_surface(m3d.modeler[\"Top_plate\"].faces[1].id, 'Mag_B', m3d.existing_analysis_sweeps[0], intrinsic)\n",
    "# # 导出图片\n",
    "# m3d.post.export_field_jpg(\n",
    "#     'E:\\\\Desktop\\\\Power_toys\\\\Power_toys\\\\prova2.jpg',\n",
    "#     plot2.name,\n",
    "#     plot2.plotFolder,\n",
    "#     orientation='top',\n",
    "#     display_wireframe=False,\n",
    "# )\n",
    "# # 导出数据到文件\n",
    "# m3d.post.export_field_file_on_grid(\n",
    "#     quantity_name=\"Mag_B\",\n",
    "#     solution=\"Setup1 : LastAdaptive\",\n",
    "#     filename='E:\\\\Desktop\\\\Power_toys\\\\Power_toys\\\\Mag.csv',\n",
    "#     grid_start=[6,6,-0.2],\n",
    "#     grid_stop=[6, 7, -0.2],\n",
    "#     grid_step=[0.1, 0.1, 0],\n",
    "#     intrinsics=\"1MHz\",\n",
    "# )"
   ]
  },
  {
   "cell_type": "code",
   "execution_count": null,
   "metadata": {},
   "outputs": [],
   "source": [
    "layer_thick = []"
   ]
  },
  {
   "cell_type": "code",
   "execution_count": null,
   "metadata": {},
   "outputs": [
    {
     "name": "stdout",
     "output_type": "stream",
     "text": [
      "4.2022860861927\n",
      "3.919033762516349\n",
      "4.167807891004293\n"
     ]
    }
   ],
   "source": [
    "loss1 = {'Layer_4': 0.008160981325144135, \n",
    "'Layer_4_2': 0.00841587255241354, \n",
    "'Layer_5': 0.00893621835236717, \n",
    "'Layer_5_2': 0.011465427557568271, \n",
    "'Layer_0': 0.26086748791599207, \n",
    "'Layer_0_2': 0.2465395865656811, \n",
    "'Layer_2': 0.49013786668752085, \n",
    "'Layer_7': 0.2909012468006785, \n",
    "'Layer_7_2': 0.256640809321962, \n",
    "'Layer_9': 0.4564837506474886, \n",
    "'Layer_1': 0.35846329486246453, \n",
    "'Layer_1_2': 0.3416378031432378, \n",
    "'Layer_3': 0.5836236387395825, \n",
    "'Layer_6': 0.584839502470127, \n",
    "'Layer_8': 0.2951725992504724}\n",
    "\n",
    "loss2 = {'Layer_5': 0.021325519083121983, \n",
    "         'Layer_5_2': 0.029311515030936916, \n",
    "         'Layer_6': 0.019134297952903195, \n",
    "         'Layer_6_2': 0.02997832220746138, \n",
    "         'Layer_1': 0.23591286317279858, \n",
    "         'Layer_1_2': 0.24644209232560482, \n",
    "         'Layer_3': 0.46840328395795633, \n",
    "         'Layer_8': 0.24384831882780136, \n",
    "         'Layer_8_2': 0.2590485051849109, \n",
    "         'Layer_10': 0.4456632668195654, \n",
    "         'Layer_0': 0.12454367379238514, \n",
    "         'Layer_2': 0.4416878983437709, \n",
    "         'Layer_4': 0.5690699914229048, \n",
    "         'Layer_7': 0.5561538271749439, \n",
    "         'Layer_9': 0.22851038721928338\n",
    "         }\n",
    "loss3 = {'Layer_4_1': 0.007869498363187635, \n",
    "         'Layer_4_2': 0.009136364030647841, \n",
    "         'Layer_5_1': 0.005090507014350036, \n",
    "         'Layer_5_2': 0.007690750162878706, \n",
    "         'Layer_0_1': 0.2622057105136101, \n",
    "         'Layer_0_2': 0.24586872888459188, \n",
    "         'Layer_2_1': 0.49359422772656986, \n",
    "         'Layer_7_1': 0.27701860790827837, \n",
    "         'Layer_7_2': 0.25648730382909524, \n",
    "         'Layer_9_1': 0.45189895360898963, \n",
    "         'Layer_1_1': 0.3717750760171587, \n",
    "         'Layer_1_2': 0.3325236463262538, \n",
    "         'Layer_3_1': 0.5953963162750471, \n",
    "         'Layer_6_1': 0.2968902016027462, \n",
    "         'Layer_6_2': 0.3081609669523285, \n",
    "         'Layer_8_1': 0.24620103178855923}\n",
    "print(sum(loss1.values()))\n",
    "print(sum(loss2.values()))\n",
    "print(sum(loss3.values()))"
   ]
  }
 ],
 "metadata": {
  "kernelspec": {
   "display_name": "Python 3",
   "language": "python",
   "name": "python3"
  },
  "language_info": {
   "codemirror_mode": {
    "name": "ipython",
    "version": 3
   },
   "file_extension": ".py",
   "mimetype": "text/x-python",
   "name": "python",
   "nbconvert_exporter": "python",
   "pygments_lexer": "ipython3",
   "version": "3.8.10"
  },
  "orig_nbformat": 4
 },
 "nbformat": 4,
 "nbformat_minor": 2
}
