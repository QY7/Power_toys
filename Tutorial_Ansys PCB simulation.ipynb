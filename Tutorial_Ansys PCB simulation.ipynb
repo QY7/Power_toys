{
 "cells": [
  {
   "attachments": {},
   "cell_type": "markdown",
   "metadata": {},
   "source": [
    "## 连接Ansys功能\n",
    "首先创建一个控制的实例，使用`Ansys.connect_to_proj()`函数"
   ]
  },
  {
   "cell_type": "code",
   "execution_count": 22,
   "metadata": {},
   "outputs": [
    {
     "name": "stdout",
     "output_type": "stream",
     "text": [
      "PyAEDT INFO: StdOut has been enabled\n",
      "PyAEDT INFO: using existing logger.\n",
      "PyAEDT INFO: pyaedt v0.6.85\n",
      "PyAEDT INFO: Python version 3.8.10 (tags/v3.8.10:3d8993a, May  3 2021, 11:48:03) [MSC v.1928 64 bit (AMD64)]\n",
      "PyAEDT INFO: AEDT 2022.1.0 Build Date 2021-11-22 22:18:25\n",
      "PyAEDT INFO: Project Sim_48_6_FullBridge set to active.\n",
      "PyAEDT INFO: Aedt Objects initialized\n",
      "PyAEDT INFO: Variable Manager initialized\n",
      "PyAEDT INFO: Design Loaded\n",
      "PyAEDT INFO: Materials Loaded\n",
      "PyAEDT INFO: aedt file load time 1.403247356414795\n"
     ]
    }
   ],
   "source": [
    "from power_toys.components.ansys import Ansys\n",
    "# 填入对应的项目名和design名字，如果没有已经打开的项目，将新建\n",
    "m3d = Ansys.connect_to_proj('Sim_48_6_FullBridge','Maxwell3DDesign1',desktop_version=\"2022.1\")\n",
    "modeler = m3d.modeler\n"
   ]
  },
  {
   "cell_type": "code",
   "execution_count": 2,
   "metadata": {},
   "outputs": [
    {
     "name": "stdout",
     "output_type": "stream",
     "text": [
      "PyAEDT INFO: Step file E:\\workspace\\AD\\11kW_OBC\\Experiment_DEMO\\ANF\\Transformer_better_rearrange_winding_side_winding.sm3 imported\n",
      "PyAEDT INFO: Deleted 1 Objects: DIELECTRIC.\n"
     ]
    }
   ],
   "source": [
    "# 导入sm3文件\n",
    "modeler.import_3d_cad(\"E:\\\\workspace\\\\AD\\\\11kW_OBC\\\\Experiment_DEMO\\\\ANF\\\\Transformer_better_rearrange_winding_side_winding.sm3\")\n",
    "# 旋转模型，为了跟AD的坐标系保持一致\n",
    "modeler.rotate(modeler.object_list, 'XY')\n",
    "# 删除介质层\n",
    "\n",
    "modeler.delete([modeler.get_object_from_name('DIELECTRIC')])\n",
    "modeler.fit_all()"
   ]
  },
  {
   "attachments": {},
   "cell_type": "markdown",
   "metadata": {},
   "source": [
    "## 创建磁芯"
   ]
  },
  {
   "cell_type": "code",
   "execution_count": 3,
   "metadata": {},
   "outputs": [
    {
     "name": "stdout",
     "output_type": "stream",
     "text": [
      "PyAEDT INFO: Successfully loaded project materials !\n"
     ]
    },
    {
     "name": "stdout",
     "output_type": "stream",
     "text": [
      "PyAEDT DEBUG: Exporting 1 objects\n",
      "PyAEDT DEBUG: Exporting 1 objects\n",
      "PyAEDT DEBUG: Exporting 1 objects\n",
      "PyAEDT DEBUG: Exporting 1 objects\n",
      "PyAEDT INFO: Union of 3 objects has been executed.\n",
      "PyAEDT INFO: Union of 3 objects has been executed.\n"
     ]
    },
    {
     "data": {
      "text/plain": [
       "'right'"
      ]
     },
     "execution_count": 3,
     "metadata": {},
     "output_type": "execute_result"
    }
   ],
   "source": [
    "Ansys.import_ferrite(m3d)\n",
    "anchor = modeler.get_object_from_name('ANCHOR_2')\n",
    "center_x = (anchor.bounding_box[0]+anchor.bounding_box[3])/2\n",
    "center_y = (anchor.bounding_box[1]+anchor.bounding_box[4])/2\n",
    "\n",
    "m3d['_k'] = '600percent'\n",
    "m3d['_r'] = '6.5mm'\n",
    "m3d['_w'] = '11.5mm'\n",
    "\n",
    "\n",
    "m3d.assign_material(modeler.object_list, 'Copper')\n",
    "Ansys.create_strip(m3d,position=[f\"({center_x}mm)\",f\"{center_y}mm\",'-1mm'],r=\"_r\",k=\"_k\",along='X',matname='ferrite_loss',name='left')\n",
    "Ansys.create_strip(m3d,position=[f\"({center_x}mm)\",f\"{center_y}mm+36mm\",'-1mm'],r=\"_r\",k=\"_k\",along='X',matname='ferrite_loss',name='right')"
   ]
  },
  {
   "cell_type": "code",
   "execution_count": 4,
   "metadata": {},
   "outputs": [],
   "source": [
    "Ansys.create_I_plate(m3d,position=[f\"({center_x}mm)-_r\",f\"{center_y}mm-_r\",'2.5mm'],height='9mm',r=\"_r\",k=\"_k\",w='_w',matname='ferrite_loss')\n",
    "Ansys.create_I_plate(m3d,position=[f\"({center_x}mm)-_r\",f\"{center_y}mm-_r\",'-1.5mm'],height='-9mm',r=\"_r\",k=\"_k\",w='_w',matname='ferrite_loss')\n"
   ]
  },
  {
   "cell_type": "code",
   "execution_count": 5,
   "metadata": {},
   "outputs": [
    {
     "name": "stdout",
     "output_type": "stream",
     "text": [
      "PyAEDT DEBUG: Exporting 1 objects\n",
      "PyAEDT DEBUG: Exporting 1 objects\n",
      "PyAEDT DEBUG: Exporting 1 objects\n",
      "PyAEDT DEBUG: Exporting 1 objects\n",
      "PyAEDT DEBUG: Exporting 1 objects\n",
      "PyAEDT DEBUG: Exporting 1 objects\n",
      "PyAEDT DEBUG: Exporting 1 objects\n",
      "PyAEDT DEBUG: Exporting 1 objects\n",
      "PyAEDT DEBUG: Exporting 1 objects\n",
      "PyAEDT DEBUG: Exporting 1 objects\n",
      "PyAEDT DEBUG: Exporting 1 objects\n",
      "PyAEDT DEBUG: Exporting 1 objects\n",
      "PyAEDT DEBUG: Exporting 1 objects\n",
      "PyAEDT DEBUG: Exporting 1 objects\n",
      "PyAEDT DEBUG: Exporting 1 objects\n",
      "PyAEDT DEBUG: Exporting 1 objects\n",
      "PyAEDT DEBUG: Exporting 1 objects\n",
      "PyAEDT DEBUG: Exporting 1 objects\n",
      "PyAEDT DEBUG: Exporting 1 objects\n",
      "PyAEDT DEBUG: Exporting 1 objects\n",
      "PyAEDT DEBUG: Exporting 1 objects\n",
      "PyAEDT DEBUG: Exporting 1 objects\n",
      "PyAEDT DEBUG: Exporting 1 objects\n",
      "PyAEDT DEBUG: Exporting 1 objects\n"
     ]
    }
   ],
   "source": [
    "def create_terminal(obj_name):\n",
    "    terminal_tmp = m3d.modeler.get_object_from_name(obj_name)\n",
    "    pos_tmp_top_raw = terminal_tmp.bounding_box[:3]\n",
    "    pos_tmp_top_raw [2] += terminal_tmp.bounding_dimension[2]\n",
    "    pos_tmp = [f\"{x}mm\" for x in pos_tmp_top_raw]\n",
    "    dim_tmp = [f\"{x}mm\" for x in terminal_tmp.bounding_dimension[:2]]\n",
    "    dim_tmp.append('50mm')\n",
    "    input_tmp = modeler.create_box(position=pos_tmp,dimensions_list=dim_tmp)\n",
    "    m3d.assign_material(input_tmp, 'Copper')\n",
    "    return input_tmp\n",
    "\n",
    "pri_input = create_terminal('W1_49')\n",
    "pri_output = create_terminal('W1_65')\n",
    "sec_input = create_terminal('W2_49')\n",
    "sec_output = create_terminal('W2_60')\n",
    "\n",
    "r1_input = create_terminal('W3_8')\n",
    "r1_output = create_terminal('W3_9')\n",
    "r2_input = create_terminal('W4_8')\n",
    "r2_output = create_terminal('W4_9')\n"
   ]
  },
  {
   "cell_type": "code",
   "execution_count": 6,
   "metadata": {},
   "outputs": [
    {
     "data": {
      "text/plain": [
       "<pyaedt.modules.Boundary.BoundaryObject at 0x276ae1a4c40>"
      ]
     },
     "execution_count": 6,
     "metadata": {},
     "output_type": "execute_result"
    }
   ],
   "source": [
    "m3d.assign_current([pri_input.top_face_z],amplitude='15A',name='pri_in')\n",
    "m3d.assign_current([pri_output.top_face_z],amplitude='15A',swap_direction=True,name='pri_out')\n",
    "m3d.assign_current([sec_input.top_face_z],amplitude='15A',name='sec_in')\n",
    "m3d.assign_current([sec_output.top_face_z],amplitude='15A',swap_direction=True,name='sec_out')\n",
    "\n",
    "m3d.assign_current([r1_input.top_face_z],amplitude='15A',name='r1_in')\n",
    "m3d.assign_current([r1_output.top_face_z],amplitude='15A',swap_direction=True,name='r1_out')\n",
    "m3d.assign_current([r2_input.top_face_z],amplitude='15A',name='r2_in')\n",
    "m3d.assign_current([r2_output.top_face_z],amplitude='15A',swap_direction=True,name='r2_out')"
   ]
  },
  {
   "cell_type": "code",
   "execution_count": 7,
   "metadata": {},
   "outputs": [
    {
     "data": {
      "text/plain": [
       "<pyaedt.modeler.cad.object3d.Object3d at 0x2768de630a0>"
      ]
     },
     "execution_count": 7,
     "metadata": {},
     "output_type": "execute_result"
    }
   ],
   "source": [
    "modeler.create_region([200,200,0,200,200,200])"
   ]
  },
  {
   "cell_type": "code",
   "execution_count": 8,
   "metadata": {},
   "outputs": [
    {
     "data": {
      "text/plain": [
       "SetupName Setup_500kHz with 0 Sweeps"
      ]
     },
     "execution_count": 8,
     "metadata": {},
     "output_type": "execute_result"
    }
   ],
   "source": [
    "m3d.create_setup(setupname='Setup_500kHz',Frequency = '500kHz',HasSweepSetup = False)"
   ]
  },
  {
   "cell_type": "code",
   "execution_count": 1,
   "metadata": {},
   "outputs": [
    {
     "name": "stdout",
     "output_type": "stream",
     "text": [
      "PyAEDT INFO: StdOut has been enabled\n",
      "PyAEDT INFO: using existing logger.\n",
      "PyAEDT INFO: Launching PyAEDT outside AEDT with CPython and PythonNET.\n",
      "PyAEDT INFO: AEDT installation Path C:\\Program Files\\AnsysEM\\v221\\Win64.\n",
      "PyAEDT INFO: Launching AEDT with module PythonNET.\n",
      "PyAEDT INFO: AEDT 2022.1 Started with process ID 15568.\n",
      "PyAEDT INFO: pyaedt v0.6.85\n",
      "PyAEDT INFO: Python version 3.8.10 (tags/v3.8.10:3d8993a, May  3 2021, 11:48:03) [MSC v.1928 64 bit (AMD64)]\n",
      "PyAEDT INFO: AEDT 2022.1.0 Build Date 2021-11-22 22:18:25\n",
      "PyAEDT INFO: Project Sim_48_6_FullBridge set to active.\n",
      "PyAEDT INFO: Aedt Objects initialized\n",
      "PyAEDT INFO: Variable Manager initialized\n",
      "PyAEDT INFO: Design Loaded\n",
      "PyAEDT INFO: Materials Loaded\n",
      "PyAEDT INFO: aedt file load time 1.2887179851531982\n",
      "PyAEDT DEBUG: Exporting 1 objects\n",
      "PyAEDT DEBUG: Exporting 1 objects\n",
      "PyAEDT DEBUG: Exporting 1 objects\n",
      "PyAEDT DEBUG: Exporting 1 objects\n",
      "PyAEDT DEBUG: Exporting 1 objects\n",
      "PyAEDT DEBUG: Exporting 1 objects\n",
      "PyAEDT DEBUG: Exporting 1 objects\n",
      "PyAEDT DEBUG: Exporting 1 objects\n",
      "PyAEDT DEBUG: Exporting 1 objects\n",
      "PyAEDT DEBUG: Exporting 1 objects\n",
      "PyAEDT DEBUG: Exporting 1 objects\n",
      "PyAEDT DEBUG: Exporting 1 objects\n",
      "PyAEDT DEBUG: Exporting 1 objects\n",
      "PyAEDT DEBUG: Exporting 1 objects\n",
      "PyAEDT DEBUG: Exporting 1 objects\n",
      "PyAEDT DEBUG: Exporting 1 objects\n",
      "PyAEDT DEBUG: Exporting 1 objects\n",
      "PyAEDT DEBUG: Exporting 1 objects\n",
      "PyAEDT DEBUG: Exporting 1 objects\n",
      "PyAEDT DEBUG: Exporting 1 objects\n",
      "PyAEDT DEBUG: Exporting 1 objects\n",
      "PyAEDT DEBUG: Exporting 1 objects\n",
      "PyAEDT DEBUG: Exporting 1 objects\n",
      "PyAEDT DEBUG: Exporting 1 objects\n",
      "PyAEDT DEBUG: Exporting 1 objects\n",
      "PyAEDT DEBUG: Exporting 1 objects\n",
      "PyAEDT DEBUG: Exporting 1 objects\n",
      "PyAEDT DEBUG: Exporting 1 objects\n",
      "PyAEDT DEBUG: Exporting 1 objects\n",
      "PyAEDT DEBUG: Exporting 1 objects\n",
      "PyAEDT DEBUG: Exporting 1 objects\n",
      "PyAEDT DEBUG: Exporting 1 objects\n",
      "PyAEDT DEBUG: Exporting 1 objects\n",
      "PyAEDT DEBUG: Exporting 1 objects\n",
      "PyAEDT DEBUG: Exporting 1 objects\n",
      "PyAEDT DEBUG: Exporting 1 objects\n",
      "PyAEDT DEBUG: Exporting 1 objects\n",
      "PyAEDT DEBUG: Exporting 1 objects\n",
      "PyAEDT DEBUG: Exporting 1 objects\n",
      "PyAEDT DEBUG: Exporting 1 objects\n",
      "PyAEDT DEBUG: Exporting 1 objects\n",
      "PyAEDT DEBUG: Exporting 1 objects\n",
      "PyAEDT DEBUG: Exporting 1 objects\n",
      "PyAEDT DEBUG: Exporting 1 objects\n",
      "PyAEDT DEBUG: Exporting 1 objects\n",
      "PyAEDT DEBUG: Exporting 1 objects\n",
      "PyAEDT DEBUG: Exporting 1 objects\n",
      "PyAEDT DEBUG: Exporting 1 objects\n",
      "[3.0000000000000013, 2.400000000000001, 2.400000000000001, 1.8000000000000005, 1.8000000000000005, 1.2, 1.2, 0.6, 0.6, 0.2, 0.0, 3.0000000000000013]\n",
      "Winding_Pri_2\n",
      "Pri_Windings_2\n",
      "Winding_Pri_1\n",
      "Pri_Windings_3\n",
      "Winding_Pri_3\n",
      "Pri_Windings_4\n",
      "Winding_Pri_4\n",
      "Pri_Windings_5\n",
      "Winding_Pri_5\n",
      "Pri_Windings_6\n",
      "Winding_Pri_6\n",
      "Pri_Windings_7\n",
      "Winding_Pri_7\n",
      "Pri_Windings_8\n",
      "Winding_Pri_8\n",
      "Pri_Windings_9\n",
      "Winding_Pri_9\n",
      "Pri_Windings_10\n",
      "Winding_Pri_10\n",
      "Pri_Windings_11\n",
      "Winding_Pri_11\n",
      "Pri_Windings_12\n",
      "Winding_Pri_12\n",
      "Pri_Windings_13\n"
     ]
    },
    {
     "data": {
      "text/plain": [
       "'Pri_Winding'"
      ]
     },
     "execution_count": 1,
     "metadata": {},
     "output_type": "execute_result"
    }
   ],
   "source": [
    "#定位到模型中某个长方体区域内的实体\n",
    "#Original by Felix Qi, edited by Gao Fan\n",
    "#Ver 20230731.1\n",
    "#位置确定流程：\n",
    "# 1. 规定实体命名前缀，如pri winding，sec winding 等等，同时规定相应的counter；\n",
    "# 2. 规定不同实体前缀对应的原始绕组实体中的名称/网络名，如pri winding一般有 Cr_Trans的网络或MID的网络，规定这些网络方便查找；\n",
    "# 3. 对不同实体组内，按照Z轴坐标排序；\n",
    "# 4. 对不同实体组内，按照已排顺序进行命名；\n",
    "\n",
    "\n",
    "\n",
    "from power_toys.components.ansys import Ansys\n",
    "# 填入对应的项目名和design名字，如果没有已经打开的项目，将新建\n",
    "m3d = Ansys.connect_to_proj('Sim_48_6_FullBridge','Maxwell3DDesign1',desktop_version=\"2022.1\")\n",
    "modeler = m3d.modeler\n",
    "\n",
    "\n",
    "import functools\n",
    "\n",
    "winding_list = []\n",
    "winding_thickness = []\n",
    "winding_name_list = []\n",
    "pos_z_list = []\n",
    "counter = 1\n",
    "\n",
    "pri_winding_list = []\n",
    "pri_pos_list = []\n",
    "pri_pos_z_list = []\n",
    "sec_winding_list = []\n",
    "PGND_winding_list = []\n",
    "GNDS_winding_list = []\n",
    "BUS_winding_list = []\n",
    "\n",
    "pos_list = []\n",
    "pos_xmin_list = []\n",
    "pos_ymin_list = []\n",
    "pos_zmin_list = []\n",
    "pos_xmax_list = []\n",
    "pos_ymax_list = []\n",
    "pos_zmax_list = []\n",
    "\n",
    "\n",
    "# for obj in m3d.modeler.object_list:\n",
    "#     if(obj.volume>6 and obj.material_name == 'copper' and ('New' not in obj.name)): #here exclude termination obj named 'New'\n",
    "#         winding_list.append(obj)\n",
    "#         winding_thickness.append(obj.bounding_dimension[2])\n",
    "#         pos_z_list.append(obj.bounding_box[2])\n",
    "\n",
    "#         pos_list.append(obj.bounding_box)\n",
    "#         pos_xmin_list.append(obj.bounding_box[0])\n",
    "#         pos_ymin_list.append(obj.bounding_box[1])\n",
    "#         pos_zmin_list.append(obj.bounding_box[2])\n",
    "#         pos_xmax_list.append(obj.bounding_box[3])\n",
    "#         pos_ymax_list.append(obj.bounding_box[4])\n",
    "#         pos_zmax_list.append(obj.bounding_box[5])\n",
    "\n",
    "for obj in m3d.modeler.object_list:\n",
    "    if(obj.volume>1 and obj.material_name == 'copper' and ('Winding_Pri' in obj.name)): #here include winding with 'Cr_Trans' net\n",
    "        pri_winding_list.append(obj)\n",
    "        winding_thickness.append(obj.bounding_dimension[2])\n",
    "\n",
    "        pri_pos_list.append(obj.bounding_box)\n",
    "        pri_pos_z_list.append(obj.bounding_box[2])\n",
    "\n",
    "pri_winding_list.sort(reverse=True,key=lambda obj: obj.bounding_box[2])\n",
    "print(pri_pos_z_list)\n",
    "for obj in pri_winding_list:\n",
    "    print(obj.name)\n",
    "    obj.name = f\"Pri_Windings_{counter}\"\n",
    "    print(obj.name)\n",
    "    counter+=1\n",
    "    \n",
    "m3d.modeler.create_group(pri_winding_list,group_name='Pri_Winding')\n",
    "\n",
    "\n",
    "# pos_z_list = list(set(pos_z_list))\n",
    "# pos_z_list.sort(reverse=True)\n",
    "# print(pos_z_list)\n",
    "# for obj in winding_list:\n",
    "#     layer = pos_z_list.index(obj.bounding_box[2])\n",
    "#     new_name = f\"Layer_{layer}\"\n",
    "#     if(new_name in winding_name_list):\n",
    "#         new_name = f\"Layer_{layer}_2\"\n",
    "#     obj.name = new_name\n",
    "#     winding_name_list.append(new_name)\n",
    "# m3d.modeler.create_group(winding_list,group_name='winding')\n",
    "\n"
   ]
  },
  {
   "cell_type": "code",
   "execution_count": null,
   "metadata": {},
   "outputs": [],
   "source": [
    "# 总体上，目前仿真中需要重复操作的流程有：\n",
    "# 1. 给不同的导体命名；\n",
    "# 2. 计算不同的表达式（如不同导体的损耗表达式）时的表达式建立&导入（如只导入部分导体的损耗表达式）；\n",
    "# 3. 根据一定的规则（如沿某line或某个点的Bmax值，或周期内的平均损耗）生成report（基本有2D plot， contour，Table三种常用形式）；\n",
    "# 4. 导出report结果到excel或python，作后处理或分析。\n",
    "\n",
    "# 5. 建议在所有操作 后/前 都运行自动保存代码，以防出问题\n",
    "\n",
    "#以下分别定义解决上述问题的函数"
   ]
  },
  {
   "cell_type": "code",
   "execution_count": null,
   "metadata": {},
   "outputs": [],
   "source": [
    "#根据表达式生成loss report（table形式）\n",
    "#已有沿已知线段绘制场图为 get_value_along_line\n",
    "#Original by Felix Qi, edited by Gao Fan\n",
    "#Ver 20230801.1\n",
    "import pyaedt\n",
    "from pyaedt.maxwell import Maxwell3d\n",
    "\n",
    "def get_loss_from_expression(cls,m3d:Maxwell3d,expression_name,obj):\n",
    "    if(obj in cls.all_objects_name(m3d)):\n",
    "        variations = {\"Freq\": [\"All\"], \"Phase\": [\"0deg\"]}\n",
    "        solutions = m3d.post.get_solution_data(\n",
    "            expressions=expression_name,\n",
    "            report_category=\"Fields\",\n",
    "            context=obj,\n",
    "            variations=variations\n",
    "        )\n",
    "        return solutions\n",
    "    else:\n",
    "        print(\"No line available\")"
   ]
  },
  {
   "cell_type": "code",
   "execution_count": 9,
   "metadata": {},
   "outputs": [],
   "source": [
    "#定位到模型中某个长方体区域内的实体\n",
    "#Original by Felix Qi, edited by Gao Fan\n",
    "#Ver 20230731.0\n",
    "#位置确定流程：\n",
    "# 1. 规定实体命名前缀，如pri winding，sec winding 等等，同时规定相应的counter；\n",
    "# 2. 规定不同实体前缀对应的原始绕组实体中的名称/网络名，如pri winding一般有 Cr_Trans的网络或MID的网络，规定这些网络方便查找；\n",
    "# 3. 对不同实体组内，按照Z轴坐标排序；\n",
    "# 4. 对不同实体组内，按照已排顺序进行命名；\n",
    "def name_winding(Net_List,Winding_Size,Prefix,GroupName): #测试用函数，最后还要将obj的list加入到输入变量中\n",
    "    counter = 1\n",
    "\n",
    "    winding_list = []\n",
    "    pos_list = []\n",
    "    pos_z_list = []\n",
    "\n",
    "    for obj in m3d.modeler.object_list:\n",
    "        flag = False\n",
    "        for net in Net_List:\n",
    "            if net in obj.name:\n",
    "                flag = True\n",
    "        \n",
    "        if(obj.volume>Winding_Size and obj.material_name == 'copper' and flag): \n",
    "            winding_list.append(obj)\n",
    "\n",
    "            pos_list.append(obj.bounding_box)\n",
    "            pos_z_list.append(obj.bounding_box[2])\n",
    "\n",
    "    winding_list.sort(reverse=True,key=lambda obj: obj.bounding_box[2])#基于bounding_box[2]对winding_list排序\n",
    "    print(pos_z_list)\n",
    "    for obj in winding_list:\n",
    "        print(obj.name)\n",
    "        obj.name = f\"{Prefix}{counter}\"\n",
    "        print(obj.name)\n",
    "        counter+=1\n",
    "        \n",
    "    m3d.modeler.create_group(winding_list,group_name=GroupName)"
   ]
  },
  {
   "cell_type": "code",
   "execution_count": 10,
   "metadata": {},
   "outputs": [
    {
     "name": "stdout",
     "output_type": "stream",
     "text": [
      "PyAEDT DEBUG: Exporting 1 objects\n",
      "PyAEDT DEBUG: Exporting 1 objects\n",
      "PyAEDT DEBUG: Exporting 1 objects\n",
      "PyAEDT DEBUG: Exporting 1 objects\n",
      "PyAEDT DEBUG: Exporting 1 objects\n",
      "PyAEDT DEBUG: Exporting 1 objects\n",
      "PyAEDT DEBUG: Exporting 1 objects\n",
      "PyAEDT DEBUG: Exporting 1 objects\n",
      "PyAEDT DEBUG: Exporting 1 objects\n",
      "PyAEDT DEBUG: Exporting 1 objects\n",
      "PyAEDT DEBUG: Exporting 1 objects\n",
      "PyAEDT DEBUG: Exporting 1 objects\n",
      "PyAEDT DEBUG: Exporting 1 objects\n",
      "PyAEDT DEBUG: Exporting 1 objects\n",
      "PyAEDT DEBUG: Exporting 1 objects\n",
      "PyAEDT DEBUG: Exporting 1 objects\n",
      "PyAEDT DEBUG: Exporting 1 objects\n",
      "PyAEDT DEBUG: Exporting 1 objects\n",
      "PyAEDT DEBUG: Exporting 1 objects\n",
      "PyAEDT DEBUG: Exporting 1 objects\n",
      "PyAEDT DEBUG: Exporting 1 objects\n",
      "PyAEDT DEBUG: Exporting 1 objects\n",
      "PyAEDT DEBUG: Exporting 1 objects\n",
      "PyAEDT DEBUG: Exporting 1 objects\n",
      "[2.600000000000001, 2.2, 2.0, 1.6, 1.4000000000000001, 0.9999999999999998, 0.7999999999999998, 0.4]\n",
      "Sec_Winding1\n",
      "Sec_Windings1\n",
      "Sec_Winding2\n",
      "Sec_Windings2\n",
      "Sec_Winding3\n",
      "Sec_Windings3\n",
      "Sec_Winding4\n",
      "Sec_Windings4\n",
      "Sec_Winding5\n",
      "Sec_Windings5\n",
      "Sec_Winding6\n",
      "Sec_Windings6\n",
      "Sec_Winding7\n",
      "Sec_Windings7\n",
      "Sec_Winding8\n",
      "Sec_Windings8\n"
     ]
    }
   ],
   "source": [
    "name_winding(['Vo','Sec_Winding'],5,'Sec_Windings','Sec_Winidngss')"
   ]
  },
  {
   "cell_type": "code",
   "execution_count": 20,
   "metadata": {},
   "outputs": [
    {
     "name": "stdout",
     "output_type": "stream",
     "text": [
      "[3.0000000000000013, 2.400000000000001, 2.400000000000001, 1.8000000000000005, 1.8000000000000005, 1.2, 1.2, 0.6, 0.6, 0.0]\n"
     ]
    }
   ],
   "source": [
    "print(pri_pos_z_list)"
   ]
  },
  {
   "cell_type": "code",
   "execution_count": 14,
   "metadata": {},
   "outputs": [
    {
     "name": "stdout",
     "output_type": "stream",
     "text": [
      "90.14470922\n"
     ]
    }
   ],
   "source": [
    "print(pri_pos_list[0][0])"
   ]
  },
  {
   "cell_type": "code",
   "execution_count": 4,
   "metadata": {},
   "outputs": [
    {
     "name": "stdout",
     "output_type": "stream",
     "text": [
      "PyAEDT DEBUG: Exporting 1 objects\n",
      "PyAEDT DEBUG: Exporting 1 objects\n",
      "PyAEDT DEBUG: Exporting 1 objects\n",
      "PyAEDT DEBUG: Exporting 1 objects\n",
      "PyAEDT DEBUG: Exporting 1 objects\n",
      "PyAEDT DEBUG: Exporting 1 objects\n",
      "PyAEDT DEBUG: Exporting 1 objects\n",
      "PyAEDT DEBUG: Exporting 1 objects\n",
      "PyAEDT DEBUG: Exporting 1 objects\n",
      "PyAEDT DEBUG: Exporting 1 objects\n",
      "PyAEDT DEBUG: Exporting 1 objects\n",
      "PyAEDT DEBUG: Exporting 1 objects\n",
      "PyAEDT DEBUG: Exporting 1 objects\n",
      "PyAEDT DEBUG: Exporting 1 objects\n",
      "PyAEDT DEBUG: Exporting 1 objects\n",
      "PyAEDT DEBUG: Exporting 1 objects\n",
      "PyAEDT DEBUG: Exporting 1 objects\n",
      "PyAEDT DEBUG: Exporting 1 objects\n",
      "PyAEDT DEBUG: Exporting 1 objects\n",
      "PyAEDT DEBUG: Exporting 1 objects\n",
      "PyAEDT DEBUG: Exporting 1 objects\n",
      "PyAEDT DEBUG: Exporting 1 objects\n",
      "PyAEDT DEBUG: Exporting 1 objects\n",
      "PyAEDT DEBUG: Exporting 1 objects\n",
      "PyAEDT DEBUG: Exporting 1 objects\n",
      "PyAEDT DEBUG: Exporting 1 objects\n",
      "PyAEDT DEBUG: Exporting 1 objects\n",
      "PyAEDT DEBUG: Exporting 1 objects\n",
      "PyAEDT DEBUG: Exporting 1 objects\n",
      "PyAEDT DEBUG: Exporting 1 objects\n",
      "PyAEDT DEBUG: Exporting 1 objects\n",
      "PyAEDT DEBUG: Exporting 1 objects\n",
      "PyAEDT DEBUG: Exporting 1 objects\n",
      "PyAEDT DEBUG: Exporting 1 objects\n",
      "PyAEDT DEBUG: Exporting 1 objects\n",
      "PyAEDT DEBUG: Exporting 1 objects\n",
      "PyAEDT DEBUG: Exporting 1 objects\n",
      "PyAEDT DEBUG: Exporting 1 objects\n",
      "PyAEDT DEBUG: Exporting 1 objects\n",
      "PyAEDT DEBUG: Exporting 1 objects\n",
      "PyAEDT DEBUG: Exporting 1 objects\n",
      "PyAEDT DEBUG: Exporting 1 objects\n",
      "PyAEDT DEBUG: Exporting 1 objects\n",
      "PyAEDT DEBUG: Exporting 1 objects\n",
      "[3.2, 3.0000000000000013, 2.800000000000001, 2.8000000000000007, 2.600000000000001, 2.400000000000001, 2.2, 2.0, 1.8000000000000005, 1.6, 1.4000000000000001, 1.2, 0.9999999999999998, 0.7999999999999998, 0.6, 0.4, 0.2]\n",
      "PyAEDT DEBUG: Exporting 1 objects\n",
      "PyAEDT DEBUG: Exporting 1 objects\n",
      "PyAEDT DEBUG: Exporting 1 objects\n",
      "PyAEDT DEBUG: Exporting 1 objects\n",
      "PyAEDT DEBUG: Exporting 1 objects\n",
      "PyAEDT DEBUG: Exporting 1 objects\n",
      "PyAEDT DEBUG: Exporting 1 objects\n",
      "PyAEDT DEBUG: Exporting 1 objects\n",
      "PyAEDT DEBUG: Exporting 1 objects\n",
      "PyAEDT DEBUG: Exporting 1 objects\n",
      "PyAEDT DEBUG: Exporting 1 objects\n",
      "PyAEDT DEBUG: Exporting 1 objects\n",
      "PyAEDT DEBUG: Exporting 1 objects\n",
      "PyAEDT DEBUG: Exporting 1 objects\n",
      "PyAEDT DEBUG: Exporting 1 objects\n",
      "PyAEDT DEBUG: Exporting 1 objects\n",
      "PyAEDT DEBUG: Exporting 1 objects\n",
      "PyAEDT DEBUG: Exporting 1 objects\n",
      "PyAEDT DEBUG: Exporting 1 objects\n",
      "PyAEDT DEBUG: Exporting 1 objects\n",
      "PyAEDT DEBUG: Exporting 1 objects\n",
      "PyAEDT DEBUG: Exporting 1 objects\n"
     ]
    },
    {
     "data": {
      "text/plain": [
       "'winding'"
      ]
     },
     "execution_count": 4,
     "metadata": {},
     "output_type": "execute_result"
    }
   ],
   "source": [
    "#定位到模型中某个长方体区域内的实体\n",
    "#位置确定流程：\n",
    "# 1. 规定实体命名前缀，如pri winding，sec winding 等等，同时规定相应的counter；\n",
    "# 2. 规定不同实体前缀对应的原始绕组实体中的名称/网络名，如pri winding一般有 Cr_Trans的网络或MID的网络，规定这些网络方便查找；\n",
    "# 3. \n",
    "import functools\n",
    "winding_list = []\n",
    "winding_thickness = []\n",
    "winding_name_list = []\n",
    "pos_z_list = []\n",
    "\n",
    "pos_list = []\n",
    "pos_xmin_list = []\n",
    "pos_ymin_list = []\n",
    "pos_zmin_list = []\n",
    "pos_xmax_list = []\n",
    "pos_ymax_list = []\n",
    "pos_zmax_list = []\n",
    "\n",
    "\n",
    "for obj in m3d.modeler.object_list:\n",
    "    if(obj.volume>6 and obj.material_name == 'copper' and ('New' not in obj.name)): #here exclude termination obj named 'New'\n",
    "        winding_list.append(obj)\n",
    "        winding_thickness.append(obj.bounding_dimension[2])\n",
    "        pos_z_list.append(obj.bounding_box[2])\n",
    "\n",
    "        pos_list.append(obj.bounding_box)\n",
    "        pos_xmin_list.append(obj.bounding_box[0])\n",
    "        pos_ymin_list.append(obj.bounding_box[1])\n",
    "        pos_zmin_list.append(obj.bounding_box[2])\n",
    "        pos_xmax_list.append(obj.bounding_box[3])\n",
    "        pos_ymax_list.append(obj.bounding_box[4])\n",
    "        pos_zmax_list.append(obj.bounding_box[5])\n",
    "\n",
    "pos_z_list = list(set(pos_z_list))\n",
    "pos_z_list.sort(reverse=True)\n",
    "print(pos_z_list)\n",
    "for obj in winding_list:\n",
    "    layer = pos_z_list.index(obj.bounding_box[2])\n",
    "    new_name = f\"Layer_{layer}\"\n",
    "    if(new_name in winding_name_list):\n",
    "        new_name = f\"Layer_{layer}_2\"\n",
    "    obj.name = new_name\n",
    "    winding_name_list.append(new_name)\n",
    "m3d.modeler.create_group(winding_list,group_name='winding')\n"
   ]
  },
  {
   "cell_type": "code",
   "execution_count": 1,
   "metadata": {},
   "outputs": [
    {
     "ename": "NameError",
     "evalue": "name 'debug' is not defined",
     "output_type": "error",
     "traceback": [
      "\u001b[1;31m---------------------------------------------------------------------------\u001b[0m",
      "\u001b[1;31mNameError\u001b[0m                                 Traceback (most recent call last)",
      "Cell \u001b[1;32mIn[1], line 1\u001b[0m\n\u001b[1;32m----> 1\u001b[0m \u001b[39mprint\u001b[39m(debug)\n",
      "\u001b[1;31mNameError\u001b[0m: name 'debug' is not defined"
     ]
    }
   ],
   "source": [
    "print(debug)"
   ]
  },
  {
   "cell_type": "code",
   "execution_count": null,
   "metadata": {},
   "outputs": [
    {
     "name": "stdout",
     "output_type": "stream",
     "text": [
      "PyAEDT WARNING: Material ferrite_loss already exists. Renaming to ferrite_loss_GY3WFE\n"
     ]
    }
   ],
   "source": [
    "Ansys.import_ferrite(m3d)"
   ]
  },
  {
   "cell_type": "code",
   "execution_count": null,
   "metadata": {},
   "outputs": [
    {
     "ename": "NameError",
     "evalue": "name 'debug' is not defined",
     "output_type": "error",
     "traceback": [
      "\u001b[1;31m---------------------------------------------------------------------------\u001b[0m",
      "\u001b[1;31mNameError\u001b[0m                                 Traceback (most recent call last)",
      "Cell \u001b[1;32mIn[12], line 1\u001b[0m\n\u001b[1;32m----> 1\u001b[0m \u001b[39mprint\u001b[39m(debug)\n",
      "\u001b[1;31mNameError\u001b[0m: name 'debug' is not defined"
     ]
    }
   ],
   "source": [
    "print(debug)"
   ]
  },
  {
   "cell_type": "code",
   "execution_count": null,
   "metadata": {},
   "outputs": [
    {
     "name": "stdout",
     "output_type": "stream",
     "text": [
      "PyAEDT DEBUG: Exporting 1 objects\n"
     ]
    },
    {
     "name": "stdout",
     "output_type": "stream",
     "text": [
      "PyAEDT DEBUG: Exporting 1 objects\n",
      "PyAEDT DEBUG: Exporting 1 objects\n",
      "PyAEDT DEBUG: Exporting 1 objects\n",
      "PyAEDT DEBUG: Exporting 1 objects\n",
      "PyAEDT DEBUG: Exporting 1 objects\n",
      "PyAEDT DEBUG: Exporting 1 objects\n",
      "PyAEDT DEBUG: Exporting 1 objects\n",
      "PyAEDT DEBUG: Exporting 1 objects\n",
      "PyAEDT DEBUG: Exporting 1 objects\n",
      "PyAEDT DEBUG: Exporting 1 objects\n",
      "PyAEDT DEBUG: Exporting 1 objects\n",
      "PyAEDT DEBUG: Exporting 1 objects\n",
      "PyAEDT DEBUG: Exporting 1 objects\n",
      "PyAEDT DEBUG: Exporting 1 objects\n",
      "PyAEDT DEBUG: Exporting 1 objects\n",
      "PyAEDT INFO: aedt file load time 0.6621396541595459\n"
     ]
    },
    {
     "data": {
      "text/plain": [
       "<pyaedt.modules.solutions.FieldPlot at 0x1fceb586310>"
      ]
     },
     "execution_count": 16,
     "metadata": {},
     "output_type": "execute_result"
    }
   ],
   "source": [
    "name_assigned = []\n",
    "for obj in winding_list:\n",
    "    layer = pos_z_list.index(obj.bounding_box[2])\n",
    "    new_name = f\"Layer_{layer}_1\"\n",
    "\n",
    "    if(new_name in name_assigned):\n",
    "        new_name = f\"Layer_{layer}_2\"\n",
    "\n",
    "    obj.name = new_name\n",
    "    name_assigned.append(new_name)\n",
    "    intrinsic = {\"Freq\": \"500kHz\", \"Phase\": \"0deg\"}\n",
    "m3d.post.create_fieldplot_volume(\n",
    "    winding_list,\n",
    "    'Mag_J',\n",
    "    m3d.existing_analysis_sweeps[0],\n",
    "    intrinsic,\n",
    "    plot_name=\"Mag_J\"\n",
    ")"
   ]
  },
  {
   "cell_type": "code",
   "execution_count": null,
   "metadata": {},
   "outputs": [],
   "source": [
    "for obj in m3d.modeler.get_objects_in_group(\"winding\"):\n",
    "    Fields = m3d.odesign.GetModule(\"FieldsReporter\")\n",
    "    # 计算所有欧姆Loss\n",
    "    Fields.EnterQty(\"OhmicLoss\")\n",
    "    Fields.CalcOp(\"Smooth\")\n",
    "    Fields.EnterVol(obj)\n",
    "    Fields.CalcOp('Integrate')\n",
    "    Fields.AddNamedExpression(f\"{obj}_loss\", \"Fields\")\n",
    "    \n"
   ]
  },
  {
   "cell_type": "code",
   "execution_count": null,
   "metadata": {},
   "outputs": [
    {
     "name": "stdout",
     "output_type": "stream",
     "text": [
      "PyAEDT INFO: Solution Data Correctly Loaded.\n",
      "PyAEDT INFO: Solution Data Correctly Loaded.\n",
      "PyAEDT INFO: Solution Data Correctly Loaded.\n",
      "PyAEDT INFO: Solution Data Correctly Loaded.\n",
      "PyAEDT INFO: Solution Data Correctly Loaded.\n",
      "PyAEDT INFO: Solution Data Correctly Loaded.\n",
      "PyAEDT INFO: Solution Data Correctly Loaded.\n",
      "PyAEDT INFO: Solution Data Correctly Loaded.\n",
      "PyAEDT INFO: Solution Data Correctly Loaded.\n",
      "PyAEDT INFO: Solution Data Correctly Loaded.\n",
      "PyAEDT INFO: Solution Data Correctly Loaded.\n",
      "PyAEDT INFO: Solution Data Correctly Loaded.\n",
      "PyAEDT INFO: Solution Data Correctly Loaded.\n",
      "PyAEDT INFO: Solution Data Correctly Loaded.\n",
      "PyAEDT INFO: Solution Data Correctly Loaded.\n",
      "PyAEDT INFO: Solution Data Correctly Loaded.\n"
     ]
    }
   ],
   "source": [
    "winding_loss_dict = {}\n",
    "for obj in m3d.modeler.get_objects_in_group(\"winding\"):\n",
    "    winding_loss_dict[obj] = Ansys.get_scalar_value(m3d,f\"{obj}_loss\")"
   ]
  },
  {
   "cell_type": "code",
   "execution_count": null,
   "metadata": {},
   "outputs": [
    {
     "name": "stdout",
     "output_type": "stream",
     "text": [
      "{'Layer_4_1': 0.007869498363187635, 'Layer_4_2': 0.009136364030647841, 'Layer_5_1': 0.005090507014350036, 'Layer_5_2': 0.007690750162878706, 'Layer_0_1': 0.2622057105136101, 'Layer_0_2': 0.24586872888459188, 'Layer_2_1': 0.49359422772656986, 'Layer_7_1': 0.27701860790827837, 'Layer_7_2': 0.25648730382909524, 'Layer_9_1': 0.45189895360898963, 'Layer_1_1': 0.3717750760171587, 'Layer_1_2': 0.3325236463262538, 'Layer_3_1': 0.5953963162750471, 'Layer_6_1': 0.2968902016027462, 'Layer_6_2': 0.3081609669523285, 'Layer_8_1': 0.24620103178855923}\n"
     ]
    }
   ],
   "source": [
    "print(winding_loss_dict)"
   ]
  },
  {
   "cell_type": "code",
   "execution_count": null,
   "metadata": {},
   "outputs": [
    {
     "data": {
      "text/plain": [
       "([<matplotlib.patches.Wedge at 0x1b260e98a60>,\n",
       "  <matplotlib.patches.Wedge at 0x1b260e989a0>,\n",
       "  <matplotlib.patches.Wedge at 0x1b260fe2250>,\n",
       "  <matplotlib.patches.Wedge at 0x1b260fe26d0>,\n",
       "  <matplotlib.patches.Wedge at 0x1b260fe2b50>,\n",
       "  <matplotlib.patches.Wedge at 0x1b260fe2fa0>,\n",
       "  <matplotlib.patches.Wedge at 0x1b260fef460>,\n",
       "  <matplotlib.patches.Wedge at 0x1b260fef850>,\n",
       "  <matplotlib.patches.Wedge at 0x1b260fefcd0>,\n",
       "  <matplotlib.patches.Wedge at 0x1b260ff9160>,\n",
       "  <matplotlib.patches.Wedge at 0x1b260e98a30>,\n",
       "  <matplotlib.patches.Wedge at 0x1b260ff9a30>,\n",
       "  <matplotlib.patches.Wedge at 0x1b260ff9eb0>,\n",
       "  <matplotlib.patches.Wedge at 0x1b261005370>,\n",
       "  <matplotlib.patches.Wedge at 0x1b2610057f0>],\n",
       " [Text(1.099979527325209, 0.006711144865814095, 'Layer_4'),\n",
       "  Text(1.0998118942035309, 0.020342009941049722, 'Layer_4_2'),\n",
       "  Text(1.0994554827402623, 0.03460695699388894, 'Layer_5'),\n",
       "  Text(1.0987997960532445, 0.05137127790262341, 'Layer_5_2'),\n",
       "  Text(1.0657187409412163, 0.27247672415578655, 'Layer_0'),\n",
       "  Text(0.8890602811592709, 0.647743634831712, 'Layer_0_2'),\n",
       "  Text(0.41863217814973164, 1.0172251960198446, 'Layer_2'),\n",
       "  Text(-0.21150302040336116, 1.07947509112543, 'Layer_7'),\n",
       "  Text(-0.6236626738794291, 0.9061152626512595, 'Layer_7_2'),\n",
       "  Text(-0.9976253857861773, 0.4634043478809635, 'Layer_9'),\n",
       "  Text(-1.08331490993044, -0.19086331738289247, 'Layer_1'),\n",
       "  Text(-0.8428945271314352, -0.7067735253473171, 'Layer_1_2'),\n",
       "  Text(-0.19833352351625372, -1.0819721870037269, 'Layer_3'),\n",
       "  Text(0.702087983087081, -0.8468013131807928, 'Layer_6'),\n",
       "  Text(1.0733264299487046, -0.24077037769121162, 'Layer_8')])"
      ]
     },
     "execution_count": 19,
     "metadata": {},
     "output_type": "execute_result"
    },
    {
     "data": {
      "image/png": "[encoded data removed]",
      "text/plain": [
       "<Figure size 640x480 with 1 Axes>"
      ]
     },
     "metadata": {},
     "output_type": "display_data"
    }
   ],
   "source": [
    "import matplotlib.pyplot as plt\n",
    "\n",
    "plt.pie(x = winding_loss_dict.values(),labels=winding_loss_dict.keys())"
   ]
  },
  {
   "attachments": {},
   "cell_type": "markdown",
   "metadata": {},
   "source": [
    "## 在ansys中添加绘图\n",
    "这里以绘制bottom_plate中的B场幅值为例"
   ]
  },
  {
   "cell_type": "code",
   "execution_count": null,
   "metadata": {},
   "outputs": [],
   "source": [
    "# # 在volume上添加B场幅值\n",
    "Ansys.create_field_plot_volume(m3d, \"bottom_plate\", 'Mag_J', 'MagB in bottom plate')"
   ]
  },
  {
   "attachments": {},
   "cell_type": "markdown",
   "metadata": {},
   "source": [
    "更高阶的功能可以直接通过操作pyaedt的API来实现如下所示"
   ]
  },
  {
   "cell_type": "code",
   "execution_count": null,
   "metadata": {},
   "outputs": [],
   "source": [
    "# quantity_name2 = \"Mag_B\"\n",
    "# setup_name = \"Setup1\"\n",
    "# intrinsic = {\"Freq\": \"1MHz\", \"Phase\": \"0deg\"}\n",
    "# vollist = [\"Top_plate_bottom\"]\n",
    "\n",
    "# # 在某一个面上绘制B场幅值\n",
    "# plot2 = m3d.post.create_fieldplot_surface(m3d.modeler[\"Top_plate\"].faces[1].id, 'Mag_B', m3d.existing_analysis_sweeps[0], intrinsic)\n",
    "# # 导出图片\n",
    "# m3d.post.export_field_jpg(\n",
    "#     'E:\\\\Desktop\\\\Power_toys\\\\Power_toys\\\\prova2.jpg',\n",
    "#     plot2.name,\n",
    "#     plot2.plotFolder,\n",
    "#     orientation='top',\n",
    "#     display_wireframe=False,\n",
    "# )\n",
    "# # 导出数据到文件\n",
    "# m3d.post.export_field_file_on_grid(\n",
    "#     quantity_name=\"Mag_B\",\n",
    "#     solution=\"Setup1 : LastAdaptive\",\n",
    "#     filename='E:\\\\Desktop\\\\Power_toys\\\\Power_toys\\\\Mag.csv',\n",
    "#     grid_start=[6,6,-0.2],\n",
    "#     grid_stop=[6, 7, -0.2],\n",
    "#     grid_step=[0.1, 0.1, 0],\n",
    "#     intrinsics=\"1MHz\",\n",
    "# )"
   ]
  },
  {
   "cell_type": "code",
   "execution_count": null,
   "metadata": {},
   "outputs": [],
   "source": [
    "layer_thick = []"
   ]
  },
  {
   "cell_type": "code",
   "execution_count": null,
   "metadata": {},
   "outputs": [
    {
     "name": "stdout",
     "output_type": "stream",
     "text": [
      "4.2022860861927\n",
      "3.919033762516349\n",
      "4.167807891004293\n"
     ]
    }
   ],
   "source": [
    "loss1 = {'Layer_4': 0.008160981325144135, \n",
    "'Layer_4_2': 0.00841587255241354, \n",
    "'Layer_5': 0.00893621835236717, \n",
    "'Layer_5_2': 0.011465427557568271, \n",
    "'Layer_0': 0.26086748791599207, \n",
    "'Layer_0_2': 0.2465395865656811, \n",
    "'Layer_2': 0.49013786668752085, \n",
    "'Layer_7': 0.2909012468006785, \n",
    "'Layer_7_2': 0.256640809321962, \n",
    "'Layer_9': 0.4564837506474886, \n",
    "'Layer_1': 0.35846329486246453, \n",
    "'Layer_1_2': 0.3416378031432378, \n",
    "'Layer_3': 0.5836236387395825, \n",
    "'Layer_6': 0.584839502470127, \n",
    "'Layer_8': 0.2951725992504724}\n",
    "\n",
    "loss2 = {'Layer_5': 0.021325519083121983, \n",
    "         'Layer_5_2': 0.029311515030936916, \n",
    "         'Layer_6': 0.019134297952903195, \n",
    "         'Layer_6_2': 0.02997832220746138, \n",
    "         'Layer_1': 0.23591286317279858, \n",
    "         'Layer_1_2': 0.24644209232560482, \n",
    "         'Layer_3': 0.46840328395795633, \n",
    "         'Layer_8': 0.24384831882780136, \n",
    "         'Layer_8_2': 0.2590485051849109, \n",
    "         'Layer_10': 0.4456632668195654, \n",
    "         'Layer_0': 0.12454367379238514, \n",
    "         'Layer_2': 0.4416878983437709, \n",
    "         'Layer_4': 0.5690699914229048, \n",
    "         'Layer_7': 0.5561538271749439, \n",
    "         'Layer_9': 0.22851038721928338\n",
    "         }\n",
    "loss3 = {'Layer_4_1': 0.007869498363187635, \n",
    "         'Layer_4_2': 0.009136364030647841, \n",
    "         'Layer_5_1': 0.005090507014350036, \n",
    "         'Layer_5_2': 0.007690750162878706, \n",
    "         'Layer_0_1': 0.2622057105136101, \n",
    "         'Layer_0_2': 0.24586872888459188, \n",
    "         'Layer_2_1': 0.49359422772656986, \n",
    "         'Layer_7_1': 0.27701860790827837, \n",
    "         'Layer_7_2': 0.25648730382909524, \n",
    "         'Layer_9_1': 0.45189895360898963, \n",
    "         'Layer_1_1': 0.3717750760171587, \n",
    "         'Layer_1_2': 0.3325236463262538, \n",
    "         'Layer_3_1': 0.5953963162750471, \n",
    "         'Layer_6_1': 0.2968902016027462, \n",
    "         'Layer_6_2': 0.3081609669523285, \n",
    "         'Layer_8_1': 0.24620103178855923}\n",
    "print(sum(loss1.values()))\n",
    "print(sum(loss2.values()))\n",
    "print(sum(loss3.values()))"
   ]
  }
 ],
 "metadata": {
  "kernelspec": {
   "display_name": "Python 3",
   "language": "python",
   "name": "python3"
  },
  "language_info": {
   "codemirror_mode": {
    "name": "ipython",
    "version": 3
   },
   "file_extension": ".py",
   "mimetype": "text/x-python",
   "name": "python",
   "nbconvert_exporter": "python",
   "pygments_lexer": "ipython3",
   "version": "3.8.10"
  },
  "orig_nbformat": 4
 },
 "nbformat": 4,
 "nbformat_minor": 2
}
