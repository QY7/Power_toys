{
 "cells": [
  {
   "attachments": {},
   "cell_type": "markdown",
   "metadata": {},
   "source": [
    "## 连接Ansys\n",
    "方法1，创建新的仿真模型\n",
    "先创建transformer实例，填入对应参数，然后调用`create_model()函数，需要填入软件的版本号，项目名字和design名字。代码如下\n",
    "```python\n",
    "trans = Transformer(6e-3,10e-3,2,cover_winding=True)\n",
    "trans.create_model(desktop_version=\"2022.1\",project_name='Project2',design_name='Maxwell3DDesign1')\n",
    "```\n",
    "\n",
    "方法2，从已打开的模型载入\n",
    "读取Ansys中已经打开的项目。然后检查项目中是否有_r,_w,_k的参数用于产生transformer对象，代码如下\n",
    "```python\n",
    "trans = Transformer.load_from_prj(\"Project2\",\"Maxwell3DDesign1\")\n",
    "```"
   ]
  },
  {
   "cell_type": "code",
   "execution_count": null,
   "metadata": {},
   "outputs": [],
   "source": [
    "from power_toys.components.tranformer import Transformer\n",
    "trans = Transformer(6e-3,10e-3,2,cover_winding=True)\n",
    "trans.create_model(desktop_version=\"2022.1\",project_name='Project2',design_name='Maxwell3DDesign1')"
   ]
  },
  {
   "cell_type": "code",
   "execution_count": null,
   "metadata": {},
   "outputs": [],
   "source": [
    "trans.r = 6.5e-3\n",
    "trans.w = 10e-3\n",
    "trans.k = 6\n",
    "trans.m3d['current'] = '2A'\n",
    "# 配置激励\n",
    "trans.assign_current('current')\n",
    "# 开始仿真\n",
    "# trans.start_sim()\n",
    "# 输出仿真结果"
   ]
  },
  {
   "cell_type": "code",
   "execution_count": null,
   "metadata": {},
   "outputs": [],
   "source": [
    "# 自动调整激励，使得phi为50uT\n",
    "trans.tune_to_phi(50e-6, 'current', 'Phi_left_leg')"
   ]
  },
  {
   "cell_type": "code",
   "execution_count": null,
   "metadata": {},
   "outputs": [],
   "source": [
    "# print(trans.phi_in_leg)\n",
    "print(trans.all_core_loss)"
   ]
  },
  {
   "cell_type": "code",
   "execution_count": null,
   "metadata": {},
   "outputs": [],
   "source": [
    "import numpy as np\n",
    "import time\n",
    "loss_arr = []\n",
    "ohmic_loss_arr = []\n",
    "for height in np.arange(2e-3,15e-3,0.5e-3):\n",
    "    trans.height_plate = height\n",
    "    trans.tune_to_phi(50e-6, 'current', 'Phi_left_leg')\n",
    "    loss,ohmic_loss = trans.all_core_loss\n",
    "    print(f\"{height*1e3:.1f}mm:{loss:.1f}W, Ohmic loss: {ohmic_loss:.1f}W\")\n",
    "    time.sleep(1)\n",
    "    loss_arr.append(loss)\n",
    "    ohmic_loss_arr.append(ohmic_loss)"
   ]
  },
  {
   "cell_type": "code",
   "execution_count": null,
   "metadata": {},
   "outputs": [],
   "source": [
    "import matplotlib.pyplot as plt\n",
    "plt.plot(np.arange(2e-3,15e-3,0.5e-3),np.array(loss_arr)-np.array(ohmic_loss_arr))"
   ]
  }
 ],
 "metadata": {
  "kernelspec": {
   "display_name": "Python 3",
   "language": "python",
   "name": "python3"
  },
  "language_info": {
   "name": "python",
   "version": "3.8.10"
  },
  "orig_nbformat": 4
 },
 "nbformat": 4,
 "nbformat_minor": 2
}
